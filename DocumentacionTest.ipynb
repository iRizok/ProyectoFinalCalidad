{
 "cells": [
  {
   "cell_type": "markdown",
   "metadata": {},
   "source": [
    "# Librerias\n",
    "Las librerias que utilizamos para hacer los test fueron las siguientes\n",
    "\n",
    "**Unittest:** Esta libreria es la encargada de los test de la aplicacion, teniendo como metodos **SetUp and TearDown** y **Mock testing** \n",
    "\n",
    "**proyecto:** Esta es la importacion del proyecto para poder trabajar con sus metodos\n",
    "\n",
    "**mock, patch y MagicMock:** Son los metodos que utilizamos para el mock testing"
   ]
  },
  {
   "cell_type": "code",
   "execution_count": null,
   "metadata": {},
   "outputs": [],
   "source": [
    "import unittest\n",
    "import proyecto\n",
    "from unittest import mock\n",
    "from mock import patch, MagicMock"
   ]
  },
  {
   "cell_type": "markdown",
   "metadata": {},
   "source": [
    "## Inicializamos las variables\n",
    " Aqui simplemente **inicializamos** las variables qeu vamos a utilizar durante el test del proyecto."
   ]
  },
  {
   "cell_type": "code",
   "execution_count": null,
   "metadata": {},
   "outputs": [],
   "source": [
    "parameters = {\n",
    "        'date': {'2008-11-15'},\n",
    "        'hd': 'True',\n",
    "        'api_key': '0v2IzxVpfiOGIzKUsnQnmt50RsrdMw4E4HqbkYrV'\n",
    "    }\n",
    "\n",
    "data = proyecto.getData(parameters)\n",
    "mock_parameters = MagicMock()\n",
    "mock_parameters.parameters = parameters\n",
    "mock_parameters.json.return_value = data\n",
    "ReturnValue = ['Adam Block','Arp 273','2008-11-15','image','https://apod.nasa.gov/apod/image/0811/ugc1810crop_block.jpg']"
   ]
  },
  {
   "cell_type": "markdown",
   "metadata": {},
   "source": [
    "## Metodos del programa y casos de prueba\n",
    "Estos son los metodos que utilizamos para todo el test y todos los casos de prueba que parchamos con ayuda del **mock** y **SetUp and TearDown** "
   ]
  },
  {
   "cell_type": "code",
   "execution_count": null,
   "metadata": {},
   "outputs": [],
   "source": [
    "class testProyecto(unittest.TestCase):"
   ]
  },
  {
   "cell_type": "markdown",
   "metadata": {},
   "source": [
    "## Metodo SetUp y inicializacion de los mock\n",
    "Aqui es donde utilizamos el metodo SetUp para meter las variables que el **mock** va a parchar."
   ]
  },
  {
   "cell_type": "code",
   "execution_count": null,
   "metadata": {},
   "outputs": [],
   "source": [
    " def setUp(self):\n",
    "       self.patcher = mock.patch('proyecto.getData', MagicMock(return_value=ReturnValue))\n",
    "       self.patcher.start()"
   ]
  },
  {
   "cell_type": "markdown",
   "metadata": {},
   "source": [
    "## Casos de prueba\n",
    "Aqui estan todos los casos de prueba que utilizamos para el testeo de la **API**, utilizamos directamente El data de el json que mencionamos en el proyecto para poder tener la informacion."
   ]
  },
  {
   "cell_type": "code",
   "execution_count": null,
   "metadata": {},
   "outputs": [],
   "source": [
    "    def testGetAuthor(self):\n",
    "        self.assertEqual(data['copyright'], proyecto.getData()[0])\n",
    "\n",
    "    def testGetTitle(self):\n",
    "        self.assertEqual(data['title'], proyecto.getData()[1])\n",
    "        \n",
    "    def testGetDate(self):\n",
    "        self.assertEqual(data['date'], proyecto.getData()[2])\n",
    "    \n",
    "    def testGetType(self):\n",
    "        self.assertEqual(data['media_type'], proyecto.getData()[3])\n",
    "        \n",
    "    def testGetUrl(self):\n",
    "        self.assertEqual(data['url'], proyecto.getData()[4])    "
   ]
  },
  {
   "cell_type": "markdown",
   "metadata": {},
   "source": [
    "## TearDown\n",
    "Este ya es el metodo final, donde detenemos la ejecucion de nuestro **patcher** y detenemos los casos de prueba."
   ]
  },
  {
   "cell_type": "code",
   "execution_count": null,
   "metadata": {},
   "outputs": [],
   "source": [
    "    def tearDown(self):\n",
    "        self.patcher.stop()\n",
    "      "
   ]
  },
  {
   "cell_type": "markdown",
   "metadata": {},
   "source": [
    "## Ejecutamos el Main\n",
    "Ya como final hacemos la ejecucion del **main**"
   ]
  },
  {
   "cell_type": "code",
   "execution_count": null,
   "metadata": {},
   "outputs": [],
   "source": [
    "if __name__ == '__main__':\n",
    "     unittest.main()"
   ]
  }
 ],
 "metadata": {
  "kernelspec": {
   "display_name": "Python 3.11.0 64-bit",
   "language": "python",
   "name": "python3"
  },
  "language_info": {
   "name": "python",
   "version": "3.11.0"
  },
  "orig_nbformat": 4,
  "vscode": {
   "interpreter": {
    "hash": "c87eed5fea60bf6047263c464a18960c793a820459d5067dd2bde544b701b4b3"
   }
  }
 },
 "nbformat": 4,
 "nbformat_minor": 2
}
