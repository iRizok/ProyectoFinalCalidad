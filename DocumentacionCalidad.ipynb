{
 "cells": [
  {
   "cell_type": "markdown",
   "metadata": {},
   "source": [
    "# Implementacion de la Api\n",
    "Utilizamos un Api que presta la NASA de acceso publico, para poder visualizar en base a las fechas que utilicemos, una imagen tomada por la nasa de alguna galaxia o nebulosa, esta api lo que nos da como informacion es una descripcion breve de la foto, su ubicacion y fecha en la que fue tomada y tambien da un autor, dependiendo si el autor es publico."
   ]
  },
  {
   "cell_type": "markdown",
   "metadata": {},
   "source": [
    "# Implementacion en el codigo\n",
    "Para implementar esta API en python utilizamos las mismas librerias que nos otorga la api, primero tuvimos que darnos de alta en la base de datos de la API de la NASA y depues ya con la key que otorga podemos acceder directamente a la base de datos que nos dara acceso a toda la informacion de las fotos sus autores y su debida descripcion.\n",
    "\n",
    "\n",
    "## Documentación\n",
    "Estas son las librerias que utilizamos para la implementacion:\n",
    "\n",
    "* Con estas librerias podemos importar la herramienta que utilizamos par apoder visualizar de una mejor manera las imagenes de la API.\n",
    "\n",
    "* Tambien podemos conseguir la informacion y convertirla en un archivo json para darle una mejor lectura a su formato y poder entender mejor la informaicon que nos arroja\n",
    "\n",
    "* Y librerias para la optimizacion de el programa en general, poder abrir las imagenes y mostrar la inforacion en una misma ventana emergente, ya que esta informacion solamente es visible por medio de un URL que lleva direcamente a la imagen."
   ]
  },
  {
   "cell_type": "code",
   "execution_count": null,
   "metadata": {},
   "outputs": [],
   "source": [
    "import tkinter as tk\n",
    "import requests\n",
    "import json\n",
    "import tkinter.scrolledtext as tkst\n",
    "from PIL import Image, ImageTk\n",
    "from urllib.request import urlopen\n",
    "from io import BytesIO\n",
    "from tkcalendar import *"
   ]
  },
  {
   "cell_type": "markdown",
   "metadata": {},
   "source": [
    "## Metodo getData\n",
    "Tenemos el metodo con el que recolectamos la informacion de nuestra API con el nombre getData, este metodo se encarga de tomar los marametros de nuestra api y poder acceder directamente para sacar la informacion y ademas darle un formato mas legible.\n"
   ]
  },
  {
   "cell_type": "code",
   "execution_count": null,
   "metadata": {},
   "outputs": [],
   "source": [
    "def getData(params):\n",
    "    response = requests.get(URL, params=params)\n",
    "    json_data = json.loads(response.text)\n",
    "    return json_data"
   ]
  },
  {
   "cell_type": "markdown",
   "metadata": {},
   "source": [
    "## Metodo getAuthor\n",
    "Este metodo se encarga directamente de entrar a la informacion obtenida por el metodo **getData** y acceder a la parte del autor de la foto, regresando asi unicamente el nombre del autor."
   ]
  },
  {
   "cell_type": "code",
   "execution_count": null,
   "metadata": {},
   "outputs": [],
   "source": [
    "def getAuthor(data):\n",
    "    if 'copyright' in data:\n",
    "        return f\"Author: {data['copyright']}\"\n",
    "    else:\n",
    "        return f\"Author: unknown\""
   ]
  },
  {
   "cell_type": "markdown",
   "metadata": {},
   "source": [
    "## Metodo getDescription\n",
    "Este metodo se encarga de conseguir la descripcion general que vemos en la foto, este metodo tambien se saca directamente de **getData** y le da el formato unicamente a la explicación."
   ]
  },
  {
   "cell_type": "code",
   "execution_count": null,
   "metadata": {},
   "outputs": [],
   "source": [
    "def getDescription(data):\n",
    "    if 'explanation' in data:\n",
    "        return f\"Description: {data['explanation']}\"\n",
    "    else:\n",
    "        return f\"Description: unknown\""
   ]
  },
  {
   "cell_type": "markdown",
   "metadata": {},
   "source": [
    "## Metodo getTitle\n",
    "Este metodo accede a **getData** y tambien unicamente saca la informacion relacionada con el titulo de la foto "
   ]
  },
  {
   "cell_type": "code",
   "execution_count": null,
   "metadata": {},
   "outputs": [],
   "source": [
    "def getTitle(data):\n",
    "    if 'title' in data:\n",
    "        return f\"Title: {data['title']}\"\n",
    "    else:\n",
    "        return f\"Title: unknown\""
   ]
  },
  {
   "cell_type": "markdown",
   "metadata": {},
   "source": [
    "## Metodo getImage\n",
    "Este metodo accede a **data** que seria la variable donde tenemos la informacion completa y regresa unicamente la URL de la imagen"
   ]
  },
  {
   "cell_type": "code",
   "execution_count": null,
   "metadata": {},
   "outputs": [],
   "source": [
    "def getImage(data):\n",
    "    img_url = data['url']\n",
    "    return img_url"
   ]
  },
  {
   "cell_type": "markdown",
   "metadata": {},
   "source": [
    "## Metodo displayImage\n",
    "Este metodo interpreta la URL de la imagen anterior y la representa en nuestro cuadro de texto dando asi la imagen **sin tener que acceder directamente al URL**"
   ]
  },
  {
   "cell_type": "code",
   "execution_count": null,
   "metadata": {},
   "outputs": [],
   "source": [
    "def displayImage(url):\n",
    "    u = urlopen(url)\n",
    "    raw_data = u.read()\n",
    "    u.close()\n",
    "\n",
    "    img = Image.open(BytesIO(raw_data))\n",
    "    photo = ImageTk.PhotoImage(img)\n",
    "\n",
    "    label = tk.Label(root, image=photo, width=600, height=400)\n",
    "    label.image = photo\n",
    "    label.pack()"
   ]
  },
  {
   "cell_type": "markdown",
   "metadata": {},
   "source": [
    "## Metodo displayCalendar\n",
    "Este metodo simplemente es un calendario donde podemos visualizar con mas entendimiento en que fecha esta tomada la foto."
   ]
  },
  {
   "cell_type": "code",
   "execution_count": null,
   "metadata": {},
   "outputs": [],
   "source": [
    "def displayCalendar():\n",
    "    cal = DateEntry(root, selectmode='day')\n",
    "    cal.pack(pady=20)\n",
    "    return cal\n"
   ]
  },
  {
   "cell_type": "markdown",
   "metadata": {},
   "source": [
    "## Metodo displayLabels\n",
    "En este metodo deplegamos toda la inforamcion directamente relacionada con los metodos anteriosres, (*author* *title* *Description*) y les da un formato legible para el usuario, seria basicamente la interfaz con la que el usuario vizualiza la informacion de la API"
   ]
  },
  {
   "cell_type": "code",
   "execution_count": null,
   "metadata": {},
   "outputs": [],
   "source": [
    "def displayLabels(author, title, description):\n",
    "    lblAuthor = tk.Label(text=author)\n",
    "    lblAuthor.pack(pady=20)\n",
    "    lblTitle = tk.Label(text=title)\n",
    "    lblTitle.pack(pady=20)\n",
    "    lblDescription = tkst.ScrolledText(master=root, wrap=tk.WORD, width=100, height=8)\n",
    "    lblDescription.pack(pady=20)\n",
    "    lblDescription.insert(tk.INSERT, description)"
   ]
  },
  {
   "cell_type": "markdown",
   "metadata": {},
   "source": [
    "## Metodo main\n",
    "Aqui es donde pedimos al usuario que inserte la fecha con la que va a interactuar la *API* y donde asignamos los parametros con los que va a trabajar el metodo **getData**.\n",
    "Este metodo *DESPLIEGA* el cuadro de texto donde visualizaremos la imagen y su informacion\n",
    "Nos imprime una visualizacion simple de los parametro solamente para confirmar si estan bien."
   ]
  },
  {
   "cell_type": "code",
   "execution_count": null,
   "metadata": {},
   "outputs": [],
   "source": [
    "def main():\n",
    "    date = input(\"Enter a valid date for the photo (YYYY-MM-DD): \")\n",
    "    parameters = {\n",
    "        'date': {date},\n",
    "        'hd': 'True',\n",
    "        'api_key': API_KEY\n",
    "    }\n",
    "    data = getData(parameters)\n",
    "    displayLabels(getAuthor(data), getTitle(data), getDescription(data))\n",
    "    isImage(data)\n",
    "    print(getData(parameters))"
   ]
  },
  {
   "cell_type": "markdown",
   "metadata": {},
   "source": [
    "# Ejecucion del programa\n",
    "Por ultimo solo ejecutamos el main\n"
   ]
  },
  {
   "cell_type": "code",
   "execution_count": null,
   "metadata": {},
   "outputs": [],
   "source": [
    "if __name__ == \"__main__\":\n",
    "    main()\n",
    "    root.mainloop()"
   ]
  }
 ],
 "metadata": {
  "kernelspec": {
   "display_name": "Python 3.11.0 64-bit",
   "language": "python",
   "name": "python3"
  },
  "language_info": {
   "name": "python",
   "version": "3.11.0"
  },
  "orig_nbformat": 4,
  "vscode": {
   "interpreter": {
    "hash": "c87eed5fea60bf6047263c464a18960c793a820459d5067dd2bde544b701b4b3"
   }
  }
 },
 "nbformat": 4,
 "nbformat_minor": 2
}
