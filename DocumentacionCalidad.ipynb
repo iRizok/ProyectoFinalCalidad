{
 "cells": [
  {
   "cell_type": "markdown",
   "metadata": {},
   "source": [
    "# Implementacion de la Api\n",
    "Utilizamos un Api que presta la NASA de acceso publico, para poder visualizar en base a las fechas que utilicemos, una imagen tomada por alguna persona y subida al link https://api.nasa.gov/planetary/apod de alguna galaxia o nebulosa, esta API lo que nos da como informacion es una descripcion breve de la foto, su ubicacion y fecha en la que fue tomada y tambien da un autor."
   ]
  },
  {
   "cell_type": "markdown",
   "metadata": {},
   "source": [
    "# Implementacion en el codigo\n",
    "Para implementar esta API en python, tuvimos que registrarnos en el sitio web https://api.nasa.gov para obtener una key de su API, una vez realizado esto importamos esa misma key en nuestro proyecto y en base al link https://api.nasa.gov/planetary/apod y una fecha previamente ingresada obtenemos un response de tipo Json en el que podemos diseccionar para obtener el nombre del autor (si es que tiene), la fecha que fue subida a la página, descripción (si es que tiene), el link de la imagen y el titulo (si es que tiene).\n",
    "\n",
    "\n",
    "## Documentación\n",
    "Estas son las librerias que utilizamos para la implementacion:\n",
    "\n",
    "- **Tkinter**: es la principal libreria que tiene Python integrada para la creación y manejo de interfaces, usamos esta libreria para poder mostrar la imagen que nos regresa la API de la NASA, su autor, su titulo y su descripción en labels.\n",
    "\n",
    "- **Requests**: es la principal libreria que tiene Python integrada para el manejo de las peticiones HTTP y es la libreria que utilizamos en el proyecto para acceder a la página y la API de la NASA.\n",
    "\n",
    "- **JSON**: esta libreria hace que sea muchisimo más sencillo el leer los textos tipo Json que nos regresa la libreria requests, ya que los decodifica para que parezcan diccionarios nativos de Python. Esta libreria como se puede entender, la usamos para que la respuesta que nos da la API pueda ser más legible y manejable para nosotros.\n",
    "  \n",
    "- **tkinter.scrolledtext**: Es un módulo proveniente de la libreria de Tkinter que nos permite mostrar un texto largo en un label pequeño, haciendolo más compacto y agregando la posibilidad de scrollear el texto si es necesario. La utilizamos principalmente para mostrar la descripción de cada imagen en la ventana.\n",
    "\n",
    "- **PIL**: Esta libreria (por sus siglas \"Python Imaging Library\") permite el manejo de imagenes de una gran extensión de formato de archivos de imagen (como .png, .jpg, .gif, etc) en el interprete de Python. De esta librería extrajimos los módulos Image e ImageTk, la primera la usamos para poder agregar la imagen del link a nuestro proyecto y la segunda para poder mostrar esa misma imagen en la ventana de Tkinter.\n",
    "\n",
    "- **urllib.request**: De esta librería importamos el módulo urlopen que en este caso, lo usamos para que pueda recuperar la información del url de la imagen y así poder manipularla.\n",
    "\n",
    "- **io**: Es una libreria que nos permite manejar distintos archivos de entrada/salida en nuestro interprete de Python. En nuestro caso importamos el módulo BytesIO que nos ayuda a renderizar la imagen de la API en la ventana de Tkinter."
   ]
  },
  {
   "cell_type": "code",
   "execution_count": null,
   "metadata": {},
   "outputs": [],
   "source": [
    "import tkinter as tk\n",
    "import requests\n",
    "import json\n",
    "import tkinter.scrolledtext as tkst\n",
    "from PIL import Image, ImageTk\n",
    "from urllib.request import urlopen\n",
    "from io import BytesIO"
   ]
  },
  {
   "cell_type": "markdown",
   "metadata": {},
   "source": [
    "## Variables globales y configuraciones de la ventana de Tkinter\n",
    "\n",
    "En el siguiente apartado se puede observar las variables globales marcadas en mayúsculas y que se usan posteriormente en la aplicación. De igual forma aquí se crea la ventana de Tkinter, se le agrega un título, se le configura el tamaño por defecto de la ventana y el fondo/background de la ventana. "
   ]
  },
  {
   "cell_type": "code",
   "execution_count": null,
   "metadata": {},
   "outputs": [],
   "source": [
    "API_KEY = '0v2IzxVpfiOGIzKUsnQnmt50RsrdMw4E4HqbkYrV'\n",
    "root = tk.Tk()\n",
    "root.title(\"NASA photo of the day\")\n",
    "root.geometry(\"900x800\")\n",
    "root['background'] = '#48047d'\n",
    "URL = 'https://api.nasa.gov/planetary/apod'"
   ]
  },
  {
   "cell_type": "markdown",
   "metadata": {},
   "source": [
    "## Metodo getData\n",
    "Tenemos el metodo con el que recolectamos la informacion de nuestra API con el nombre getData, este metodo se encarga de tomar los marametros de nuestra api y poder acceder directamente para sacar la informacion y ademas darle un formato mas legible.\n"
   ]
  },
  {
   "cell_type": "code",
   "execution_count": null,
   "metadata": {},
   "outputs": [],
   "source": [
    "def getData(params):\n",
    "    response = requests.get(URL, params=params)\n",
    "    json_data = json.loads(response.text)\n",
    "    return json_data"
   ]
  },
  {
   "cell_type": "markdown",
   "metadata": {},
   "source": [
    "## Metodo getAuthor\n",
    "Este metodo se encarga directamente de entrar a la informacion obtenida por el metodo **getData** y acceder a la parte del autor de la foto, regresando asi unicamente el nombre del autor."
   ]
  },
  {
   "cell_type": "code",
   "execution_count": null,
   "metadata": {},
   "outputs": [],
   "source": [
    "def getAuthor(data):\n",
    "    if 'copyright' in data:\n",
    "        return f\"Author: {data['copyright']}\"\n",
    "    else:\n",
    "        return f\"Author: unknown\""
   ]
  },
  {
   "cell_type": "markdown",
   "metadata": {},
   "source": [
    "## Metodo getDescription\n",
    "Este metodo se encarga de conseguir la descripcion general que vemos en la foto, este metodo tambien se saca directamente de **getData** y le da el formato unicamente a la explicación."
   ]
  },
  {
   "cell_type": "code",
   "execution_count": null,
   "metadata": {},
   "outputs": [],
   "source": [
    "def getDescription(data):\n",
    "    if 'explanation' in data:\n",
    "        return f\"Description: {data['explanation']}\"\n",
    "    else:\n",
    "        return f\"Description: unknown\""
   ]
  },
  {
   "cell_type": "markdown",
   "metadata": {},
   "source": [
    "## Metodo getTitle\n",
    "Este metodo accede a **getData** y tambien unicamente saca la informacion relacionada con el titulo de la foto "
   ]
  },
  {
   "cell_type": "code",
   "execution_count": null,
   "metadata": {},
   "outputs": [],
   "source": [
    "def getTitle(data):\n",
    "    if 'title' in data:\n",
    "        return f\"Title: {data['title']}\"\n",
    "    else:\n",
    "        return f\"Title: unknown\""
   ]
  },
  {
   "cell_type": "markdown",
   "metadata": {},
   "source": [
    "## Metodo getImage\n",
    "Este metodo accede a **data** que seria la variable donde tenemos la informacion completa y regresa unicamente la URL de la imagen"
   ]
  },
  {
   "cell_type": "code",
   "execution_count": null,
   "metadata": {},
   "outputs": [],
   "source": [
    "def getImage(data):\n",
    "    img_url = data['url']\n",
    "    return img_url"
   ]
  },
  {
   "cell_type": "markdown",
   "metadata": {},
   "source": [
    "## Metodo displayImage\n",
    "Este metodo interpreta la URL de la imagen anterior y la representa en nuestro cuadro de texto dando asi la imagen **sin tener que acceder directamente al URL**"
   ]
  },
  {
   "cell_type": "code",
   "execution_count": null,
   "metadata": {},
   "outputs": [],
   "source": [
    "def displayImage(url):\n",
    "    u = urlopen(url)\n",
    "    raw_data = u.read()\n",
    "    u.close()\n",
    "\n",
    "    img = Image.open(BytesIO(raw_data))\n",
    "    photo = ImageTk.PhotoImage(img)\n",
    "\n",
    "    label = tk.Label(root, image=photo, width=600, height=400)\n",
    "    label.image = photo\n",
    "    label.pack()"
   ]
  },
  {
   "cell_type": "markdown",
   "metadata": {},
   "source": [
    "## Metodo displayLabels\n",
    "En este metodo deplegamos toda la inforamcion directamente relacionada con los metodos anteriosres, (*author* *title* *Description*) y les da un formato legible para el usuario, seria basicamente la interfaz con la que el usuario vizualiza la informacion de la API"
   ]
  },
  {
   "cell_type": "code",
   "execution_count": null,
   "metadata": {},
   "outputs": [],
   "source": [
    "def displayLabels(author, title, description):\n",
    "    lblAuthor = tk.Label(text=author)\n",
    "    lblAuthor.pack(pady=20)\n",
    "    lblTitle = tk.Label(text=title)\n",
    "    lblTitle.pack(pady=20)\n",
    "    lblDescription = tkst.ScrolledText(master=root, wrap=tk.WORD, width=100, height=8)\n",
    "    lblDescription.pack(pady=20)\n",
    "    lblDescription.insert(tk.INSERT, description)"
   ]
  },
  {
   "cell_type": "markdown",
   "metadata": {},
   "source": [
    "## Metodo main\n",
    "Aqui es donde pedimos al usuario que inserte la fecha con la que va a interactuar la *API* y donde asignamos los parametros con los que va a trabajar el metodo **getData**.\n",
    "Este metodo *DESPLIEGA* el cuadro de texto donde visualizaremos la imagen y su informacion\n",
    "Nos imprime una visualizacion simple de los parametro solamente para confirmar si estan bien."
   ]
  },
  {
   "cell_type": "code",
   "execution_count": null,
   "metadata": {},
   "outputs": [],
   "source": [
    "def main():\n",
    "    date = input(\"Enter a valid date for the photo (YYYY-MM-DD): \")\n",
    "    parameters = {\n",
    "        'date': {date},\n",
    "        'hd': 'True',\n",
    "        'api_key': API_KEY\n",
    "    }\n",
    "    data = getData(parameters)\n",
    "    displayLabels(getAuthor(data), getTitle(data), getDescription(data))\n",
    "    isImage(data)\n",
    "    print(getData(parameters))"
   ]
  },
  {
   "cell_type": "markdown",
   "metadata": {},
   "source": [
    "# Ejecucion del programa\n",
    "Por ultimo solo ejecutamos el main y la ventana de tkinter.\n"
   ]
  },
  {
   "cell_type": "code",
   "execution_count": null,
   "metadata": {},
   "outputs": [],
   "source": [
    "if __name__ == \"__main__\":\n",
    "    main()\n",
    "    root.mainloop()"
   ]
  }
 ],
 "metadata": {
  "kernelspec": {
   "display_name": "Python 3.11.0 64-bit",
   "language": "python",
   "name": "python3"
  },
  "language_info": {
   "name": "python",
   "version": "3.11.0"
  },
  "orig_nbformat": 4,
  "vscode": {
   "interpreter": {
    "hash": "ead1b95f633dc9c51826328e1846203f51a198c6fb5f2884a80417ba131d4e82"
   }
  }
 },
 "nbformat": 4,
 "nbformat_minor": 2
}
